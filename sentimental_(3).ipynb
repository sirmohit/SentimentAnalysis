{
  "cells": [
    {
      "cell_type": "code",
      "execution_count": 5,
      "id": "a6d37db7-1c3a-4ff6-a549-c2d2e57959bb",
      "metadata": {
        "id": "a6d37db7-1c3a-4ff6-a549-c2d2e57959bb"
      },
      "outputs": [],
      "source": [
        "    #IMPORTING DEPENDENCIES"
      ]
    },
    {
      "cell_type": "code",
      "execution_count": 6,
      "id": "8744f34d-6541-4d6b-ac55-e7ed84d7470f",
      "metadata": {
        "id": "8744f34d-6541-4d6b-ac55-e7ed84d7470f"
      },
      "outputs": [
        {
          "name": "stderr",
          "output_type": "stream",
          "text": [
            "2022-11-25 22:58:38.493652: I tensorflow/core/platform/cpu_feature_guard.cc:193] This TensorFlow binary is optimized with oneAPI Deep Neural Network Library (oneDNN) to use the following CPU instructions in performance-critical operations:  AVX2 FMA\n",
            "To enable them in other operations, rebuild TensorFlow with the appropriate compiler flags.\n",
            "2022-11-25 22:58:39.236255: W tensorflow/stream_executor/platform/default/dso_loader.cc:64] Could not load dynamic library 'libcudart.so.11.0'; dlerror: libcudart.so.11.0: cannot open shared object file: No such file or directory\n",
            "2022-11-25 22:58:39.236316: I tensorflow/stream_executor/cuda/cudart_stub.cc:29] Ignore above cudart dlerror if you do not have a GPU set up on your machine.\n",
            "2022-11-25 22:58:39.383925: E tensorflow/stream_executor/cuda/cuda_blas.cc:2981] Unable to register cuBLAS factory: Attempting to register factory for plugin cuBLAS when one has already been registered\n",
            "2022-11-25 22:58:40.470515: W tensorflow/stream_executor/platform/default/dso_loader.cc:64] Could not load dynamic library 'libnvinfer.so.7'; dlerror: libnvinfer.so.7: cannot open shared object file: No such file or directory\n",
            "2022-11-25 22:58:40.470682: W tensorflow/stream_executor/platform/default/dso_loader.cc:64] Could not load dynamic library 'libnvinfer_plugin.so.7'; dlerror: libnvinfer_plugin.so.7: cannot open shared object file: No such file or directory\n",
            "2022-11-25 22:58:40.470770: W tensorflow/compiler/tf2tensorrt/utils/py_utils.cc:38] TF-TRT Warning: Cannot dlopen some TensorRT libraries. If you would like to use Nvidia GPU with TensorRT, please make sure the missing libraries mentioned above are installed properly.\n"
          ]
        }
      ],
      "source": [
        "import re\n",
        "import pandas as pd\n",
        "import numpy as np\n",
        "from sklearn.preprocessing import LabelEncoder\n",
        "from sklearn.model_selection import train_test_split\n",
        "from keras.preprocessing.text import Tokenizer\n",
        "from keras.utils import pad_sequences\n",
        "import keras\n",
        "from sklearn.metrics import classification_report\n",
        "from sklearn.metrics import accuracy_score\n",
        "import math\n",
        "import nltk"
      ]
    },
    {
      "cell_type": "code",
      "execution_count": 7,
      "id": "f985492a-51f4-4e3a-90bd-22461cbc4724",
      "metadata": {
        "colab": {
          "base_uri": "https://localhost:8080/",
          "height": 328
        },
        "id": "f985492a-51f4-4e3a-90bd-22461cbc4724",
        "outputId": "3d7dab43-dcaa-4d98-d494-b745667befad"
      },
      "outputs": [
        {
          "data": {
            "text/html": [
              "<div>\n",
              "<style scoped>\n",
              "    .dataframe tbody tr th:only-of-type {\n",
              "        vertical-align: middle;\n",
              "    }\n",
              "\n",
              "    .dataframe tbody tr th {\n",
              "        vertical-align: top;\n",
              "    }\n",
              "\n",
              "    .dataframe thead th {\n",
              "        text-align: right;\n",
              "    }\n",
              "</style>\n",
              "<table border=\"1\" class=\"dataframe\">\n",
              "  <thead>\n",
              "    <tr style=\"text-align: right;\">\n",
              "      <th></th>\n",
              "      <th>review</th>\n",
              "      <th>sentiment</th>\n",
              "    </tr>\n",
              "  </thead>\n",
              "  <tbody>\n",
              "    <tr>\n",
              "      <th>0</th>\n",
              "      <td>One of the other reviewers has mentioned that ...</td>\n",
              "      <td>positive</td>\n",
              "    </tr>\n",
              "    <tr>\n",
              "      <th>1</th>\n",
              "      <td>A wonderful little production. &lt;br /&gt;&lt;br /&gt;The...</td>\n",
              "      <td>positive</td>\n",
              "    </tr>\n",
              "    <tr>\n",
              "      <th>2</th>\n",
              "      <td>I thought this was a wonderful way to spend ti...</td>\n",
              "      <td>positive</td>\n",
              "    </tr>\n",
              "    <tr>\n",
              "      <th>3</th>\n",
              "      <td>Basically there's a family where a little boy ...</td>\n",
              "      <td>negative</td>\n",
              "    </tr>\n",
              "    <tr>\n",
              "      <th>4</th>\n",
              "      <td>Petter Mattei's \"Love in the Time of Money\" is...</td>\n",
              "      <td>positive</td>\n",
              "    </tr>\n",
              "    <tr>\n",
              "      <th>...</th>\n",
              "      <td>...</td>\n",
              "      <td>...</td>\n",
              "    </tr>\n",
              "    <tr>\n",
              "      <th>49995</th>\n",
              "      <td>I thought this movie did a down right good job...</td>\n",
              "      <td>positive</td>\n",
              "    </tr>\n",
              "    <tr>\n",
              "      <th>49996</th>\n",
              "      <td>Bad plot, bad dialogue, bad acting, idiotic di...</td>\n",
              "      <td>negative</td>\n",
              "    </tr>\n",
              "    <tr>\n",
              "      <th>49997</th>\n",
              "      <td>I am a Catholic taught in parochial elementary...</td>\n",
              "      <td>negative</td>\n",
              "    </tr>\n",
              "    <tr>\n",
              "      <th>49998</th>\n",
              "      <td>I'm going to have to disagree with the previou...</td>\n",
              "      <td>negative</td>\n",
              "    </tr>\n",
              "    <tr>\n",
              "      <th>49999</th>\n",
              "      <td>No one expects the Star Trek movies to be high...</td>\n",
              "      <td>negative</td>\n",
              "    </tr>\n",
              "  </tbody>\n",
              "</table>\n",
              "<p>50000 rows × 2 columns</p>\n",
              "</div>"
            ],
            "text/plain": [
              "                                                  review sentiment\n",
              "0      One of the other reviewers has mentioned that ...  positive\n",
              "1      A wonderful little production. <br /><br />The...  positive\n",
              "2      I thought this was a wonderful way to spend ti...  positive\n",
              "3      Basically there's a family where a little boy ...  negative\n",
              "4      Petter Mattei's \"Love in the Time of Money\" is...  positive\n",
              "...                                                  ...       ...\n",
              "49995  I thought this movie did a down right good job...  positive\n",
              "49996  Bad plot, bad dialogue, bad acting, idiotic di...  negative\n",
              "49997  I am a Catholic taught in parochial elementary...  negative\n",
              "49998  I'm going to have to disagree with the previou...  negative\n",
              "49999  No one expects the Star Trek movies to be high...  negative\n",
              "\n",
              "[50000 rows x 2 columns]"
            ]
          },
          "execution_count": 7,
          "metadata": {},
          "output_type": "execute_result"
        }
      ],
      "source": [
        "r = pd.read_csv('IMDB Dataset.csv')\n",
        "r"
      ]
    },
    {
      "cell_type": "code",
      "execution_count": 8,
      "id": "b5b7a5c2-ebc0-48fd-9b43-3fdbd6d560dd",
      "metadata": {
        "id": "b5b7a5c2-ebc0-48fd-9b43-3fdbd6d560dd"
      },
      "outputs": [],
      "source": [
        "#DATA PREPROCESSING"
      ]
    },
    {
      "cell_type": "code",
      "execution_count": 9,
      "id": "c44f4ec1-2a37-47c9-8f50-c8f1ed3e6c43",
      "metadata": {
        "id": "c44f4ec1-2a37-47c9-8f50-c8f1ed3e6c43"
      },
      "outputs": [
        {
          "name": "stderr",
          "output_type": "stream",
          "text": [
            "/tmp/ipykernel_16609/3475780766.py:1: FutureWarning: The default value of regex will change from True to False in a future version.\n",
            "  r['review'] = r['review'].str.replace(r'<[^<>]*>', '')\n"
          ]
        }
      ],
      "source": [
        "r['review'] = r['review'].str.replace(r'<[^<>]*>', '')\n",
        "r['review'] = r['review'].replace(to_replace=r'^https?:\\/\\/.*[\\r\\n]*',value='')\n",
        "r['review'] = r['review'].str.lower()"
      ]
    },
    {
      "cell_type": "code",
      "execution_count": 10,
      "id": "066c7173-5526-4057-813a-797cd9e68bae",
      "metadata": {
        "id": "066c7173-5526-4057-813a-797cd9e68bae"
      },
      "outputs": [
        {
          "name": "stderr",
          "output_type": "stream",
          "text": [
            "/tmp/ipykernel_16609/19091054.py:3: FutureWarning: The default value of regex will change from True to False in a future version.\n",
            "  d.strings.str.replace('[^a-zA-Z0-9]', '')\n"
          ]
        },
        {
          "data": {
            "text/plain": [
              "0    abc1\n",
              "1     abc\n",
              "Name: strings, dtype: object"
            ]
          },
          "execution_count": 10,
          "metadata": {},
          "output_type": "execute_result"
        }
      ],
      "source": [
        "d = pd.DataFrame({'strings': ['a#bc1!', 'a(b$c']})\n",
        "\n",
        "d.strings.str.replace('[^a-zA-Z0-9]', '')"
      ]
    },
    {
      "cell_type": "code",
      "execution_count": 11,
      "id": "415173de-b0b6-4dac-a585-778fa9e3dedf",
      "metadata": {
        "id": "415173de-b0b6-4dac-a585-778fa9e3dedf"
      },
      "outputs": [
        {
          "data": {
            "text/html": [
              "<div>\n",
              "<style scoped>\n",
              "    .dataframe tbody tr th:only-of-type {\n",
              "        vertical-align: middle;\n",
              "    }\n",
              "\n",
              "    .dataframe tbody tr th {\n",
              "        vertical-align: top;\n",
              "    }\n",
              "\n",
              "    .dataframe thead th {\n",
              "        text-align: right;\n",
              "    }\n",
              "</style>\n",
              "<table border=\"1\" class=\"dataframe\">\n",
              "  <thead>\n",
              "    <tr style=\"text-align: right;\">\n",
              "      <th></th>\n",
              "      <th>review</th>\n",
              "      <th>sentiment</th>\n",
              "    </tr>\n",
              "  </thead>\n",
              "  <tbody>\n",
              "    <tr>\n",
              "      <th>0</th>\n",
              "      <td>one of the other reviewers has mentioned that ...</td>\n",
              "      <td>positive</td>\n",
              "    </tr>\n",
              "    <tr>\n",
              "      <th>1</th>\n",
              "      <td>a wonderful little production. the filming tec...</td>\n",
              "      <td>positive</td>\n",
              "    </tr>\n",
              "    <tr>\n",
              "      <th>2</th>\n",
              "      <td>i thought this was a wonderful way to spend ti...</td>\n",
              "      <td>positive</td>\n",
              "    </tr>\n",
              "    <tr>\n",
              "      <th>3</th>\n",
              "      <td>basically there's a family where a little boy ...</td>\n",
              "      <td>negative</td>\n",
              "    </tr>\n",
              "    <tr>\n",
              "      <th>4</th>\n",
              "      <td>petter mattei's \"love in the time of money\" is...</td>\n",
              "      <td>positive</td>\n",
              "    </tr>\n",
              "    <tr>\n",
              "      <th>...</th>\n",
              "      <td>...</td>\n",
              "      <td>...</td>\n",
              "    </tr>\n",
              "    <tr>\n",
              "      <th>49995</th>\n",
              "      <td>i thought this movie did a down right good job...</td>\n",
              "      <td>positive</td>\n",
              "    </tr>\n",
              "    <tr>\n",
              "      <th>49996</th>\n",
              "      <td>bad plot, bad dialogue, bad acting, idiotic di...</td>\n",
              "      <td>negative</td>\n",
              "    </tr>\n",
              "    <tr>\n",
              "      <th>49997</th>\n",
              "      <td>i am a catholic taught in parochial elementary...</td>\n",
              "      <td>negative</td>\n",
              "    </tr>\n",
              "    <tr>\n",
              "      <th>49998</th>\n",
              "      <td>i'm going to have to disagree with the previou...</td>\n",
              "      <td>negative</td>\n",
              "    </tr>\n",
              "    <tr>\n",
              "      <th>49999</th>\n",
              "      <td>no one expects the star trek movies to be high...</td>\n",
              "      <td>negative</td>\n",
              "    </tr>\n",
              "  </tbody>\n",
              "</table>\n",
              "<p>50000 rows × 2 columns</p>\n",
              "</div>"
            ],
            "text/plain": [
              "                                                  review sentiment\n",
              "0      one of the other reviewers has mentioned that ...  positive\n",
              "1      a wonderful little production. the filming tec...  positive\n",
              "2      i thought this was a wonderful way to spend ti...  positive\n",
              "3      basically there's a family where a little boy ...  negative\n",
              "4      petter mattei's \"love in the time of money\" is...  positive\n",
              "...                                                  ...       ...\n",
              "49995  i thought this movie did a down right good job...  positive\n",
              "49996  bad plot, bad dialogue, bad acting, idiotic di...  negative\n",
              "49997  i am a catholic taught in parochial elementary...  negative\n",
              "49998  i'm going to have to disagree with the previou...  negative\n",
              "49999  no one expects the star trek movies to be high...  negative\n",
              "\n",
              "[50000 rows x 2 columns]"
            ]
          },
          "execution_count": 11,
          "metadata": {},
          "output_type": "execute_result"
        }
      ],
      "source": [
        "r"
      ]
    },
    {
      "cell_type": "code",
      "execution_count": 12,
      "id": "22d72476-d693-4155-8bb2-917c40227e15",
      "metadata": {
        "id": "22d72476-d693-4155-8bb2-917c40227e15"
      },
      "outputs": [],
      "source": [
        "#RECURRING WORDS"
      ]
    },
    {
      "cell_type": "code",
      "execution_count": 13,
      "id": "e45c9b33-054b-42bb-be0d-904d0ef9f15d",
      "metadata": {
        "id": "e45c9b33-054b-42bb-be0d-904d0ef9f15d"
      },
      "outputs": [],
      "source": [
        "\n",
        "# for i in range(len(r['review'])):\n",
        "#     pd.Series(\" \".join(r['review']).split()).value_counts()>100"
      ]
    },
    {
      "cell_type": "code",
      "execution_count": 14,
      "id": "c15514d5-2f27-4a02-898f-cf6527212306",
      "metadata": {
        "id": "c15514d5-2f27-4a02-898f-cf6527212306"
      },
      "outputs": [],
      "source": [
        "rem_stopwords = ['it.', 'could', 'made', '-', 'get', 'also', 'would', 'get', 'seen', 'go', 'two', 'one']"
      ]
    },
    {
      "cell_type": "code",
      "execution_count": 15,
      "id": "93f9ea12-02c1-4bc3-956f-f712202c003f",
      "metadata": {
        "id": "93f9ea12-02c1-4bc3-956f-f712202c003f"
      },
      "outputs": [],
      "source": [
        "#REMOVING STOPWORDS"
      ]
    },
    {
      "cell_type": "code",
      "execution_count": 16,
      "id": "9144748d-3625-4eae-834f-721491c82486",
      "metadata": {
        "id": "9144748d-3625-4eae-834f-721491c82486"
      },
      "outputs": [
        {
          "name": "stderr",
          "output_type": "stream",
          "text": [
            "[nltk_data] Downloading package stopwords to /home/sourav/nltk_data...\n",
            "[nltk_data]   Package stopwords is already up-to-date!\n"
          ]
        }
      ],
      "source": [
        "nltk.download('stopwords')\n",
        "from nltk.corpus import stopwords\n",
        "stop_words = set(stopwords.words('english'))\n",
        "r['review'] = r['review'].apply(lambda x: \" \".join([word for word in x.split() if word not in stop_words]))\n",
        "r['review'] = r['review'].apply(lambda x: \" \".join([word for word in x.split() if word not in rem_stopwords]))"
      ]
    },
    {
      "cell_type": "code",
      "execution_count": 17,
      "id": "85c4feee-e64c-4af5-a455-e1df4d2f9ced",
      "metadata": {
        "id": "85c4feee-e64c-4af5-a455-e1df4d2f9ced"
      },
      "outputs": [],
      "source": [
        "#TOKENIZATION"
      ]
    },
    {
      "cell_type": "code",
      "execution_count": 18,
      "id": "beeb1050-748e-40d7-bcc9-22f45e0617d1",
      "metadata": {
        "id": "beeb1050-748e-40d7-bcc9-22f45e0617d1"
      },
      "outputs": [],
      "source": [
        "# from pandarallel import pandarallel\n",
        "\n",
        "# pandarallel.initialize(progress_bar=True)\n",
        "# r['tokenized'] = r['review'].parallel_apply(lambda x: nltk.word_tokenize(x))"
      ]
    },
    {
      "cell_type": "code",
      "execution_count": 19,
      "id": "7897c6ba-94fe-40e6-aef2-327d9eb35c7e",
      "metadata": {
        "id": "7897c6ba-94fe-40e6-aef2-327d9eb35c7e"
      },
      "outputs": [],
      "source": [
        "# r['review'].apply(lambda x: len(x.split()))"
      ]
    },
    {
      "cell_type": "code",
      "execution_count": 20,
      "id": "432cb1ab-2747-4bc9-a2eb-a1f76be05de3",
      "metadata": {
        "id": "432cb1ab-2747-4bc9-a2eb-a1f76be05de3"
      },
      "outputs": [],
      "source": [
        "\n",
        "from textblob import Word\n",
        "r['lemmatized'] = r['review'].apply(lambda x: \" \".join(Word(word).lemmatize() for word in str(x).split()))"
      ]
    },
    {
      "cell_type": "code",
      "execution_count": 21,
      "id": "51839319-7565-44df-8298-3b0c8c0a9969",
      "metadata": {
        "id": "51839319-7565-44df-8298-3b0c8c0a9969"
      },
      "outputs": [],
      "source": [
        "recuuring_words = pd.Series(\" \".join(r['review']).split()).value_counts()"
      ]
    },
    {
      "cell_type": "code",
      "execution_count": 22,
      "id": "405e81cd-9002-44dd-9bdd-263eb8848788",
      "metadata": {
        "id": "405e81cd-9002-44dd-9bdd-263eb8848788"
      },
      "outputs": [
        {
          "data": {
            "text/plain": [
              "False    383903\n",
              "True      38418\n",
              "dtype: int64"
            ]
          },
          "execution_count": 22,
          "metadata": {},
          "output_type": "execute_result"
        }
      ],
      "source": [
        "(recuuring_words>10).value_counts()     #choosing vocab_size"
      ]
    },
    {
      "cell_type": "code",
      "execution_count": 23,
      "id": "903e5008-fc18-4605-926e-28f09c35ce89",
      "metadata": {
        "id": "903e5008-fc18-4605-926e-28f09c35ce89"
      },
      "outputs": [
        {
          "data": {
            "text/html": [
              "<div>\n",
              "<style scoped>\n",
              "    .dataframe tbody tr th:only-of-type {\n",
              "        vertical-align: middle;\n",
              "    }\n",
              "\n",
              "    .dataframe tbody tr th {\n",
              "        vertical-align: top;\n",
              "    }\n",
              "\n",
              "    .dataframe thead th {\n",
              "        text-align: right;\n",
              "    }\n",
              "</style>\n",
              "<table border=\"1\" class=\"dataframe\">\n",
              "  <thead>\n",
              "    <tr style=\"text-align: right;\">\n",
              "      <th></th>\n",
              "      <th>review</th>\n",
              "      <th>sentiment</th>\n",
              "      <th>lemmatized</th>\n",
              "    </tr>\n",
              "  </thead>\n",
              "  <tbody>\n",
              "    <tr>\n",
              "      <th>0</th>\n",
              "      <td>reviewers mentioned watching 1 oz episode hook...</td>\n",
              "      <td>positive</td>\n",
              "      <td>reviewer mentioned watching 1 oz episode hooke...</td>\n",
              "    </tr>\n",
              "    <tr>\n",
              "      <th>1</th>\n",
              "      <td>wonderful little production. filming technique...</td>\n",
              "      <td>positive</td>\n",
              "      <td>wonderful little production. filming technique...</td>\n",
              "    </tr>\n",
              "    <tr>\n",
              "      <th>2</th>\n",
              "      <td>thought wonderful way spend time hot summer we...</td>\n",
              "      <td>positive</td>\n",
              "      <td>thought wonderful way spend time hot summer we...</td>\n",
              "    </tr>\n",
              "    <tr>\n",
              "      <th>3</th>\n",
              "      <td>basically there's family little boy (jake) thi...</td>\n",
              "      <td>negative</td>\n",
              "      <td>basically there's family little boy (jake) thi...</td>\n",
              "    </tr>\n",
              "    <tr>\n",
              "      <th>4</th>\n",
              "      <td>petter mattei's \"love time money\" visually stu...</td>\n",
              "      <td>positive</td>\n",
              "      <td>petter mattei's \"love time money\" visually stu...</td>\n",
              "    </tr>\n",
              "    <tr>\n",
              "      <th>...</th>\n",
              "      <td>...</td>\n",
              "      <td>...</td>\n",
              "      <td>...</td>\n",
              "    </tr>\n",
              "    <tr>\n",
              "      <th>49995</th>\n",
              "      <td>thought movie right good job. creative origina...</td>\n",
              "      <td>positive</td>\n",
              "      <td>thought movie right good job. creative origina...</td>\n",
              "    </tr>\n",
              "    <tr>\n",
              "      <th>49996</th>\n",
              "      <td>bad plot, bad dialogue, bad acting, idiotic di...</td>\n",
              "      <td>negative</td>\n",
              "      <td>bad plot, bad dialogue, bad acting, idiotic di...</td>\n",
              "    </tr>\n",
              "    <tr>\n",
              "      <th>49997</th>\n",
              "      <td>catholic taught parochial elementary schools n...</td>\n",
              "      <td>negative</td>\n",
              "      <td>catholic taught parochial elementary school nu...</td>\n",
              "    </tr>\n",
              "    <tr>\n",
              "      <th>49998</th>\n",
              "      <td>i'm going disagree previous comment side malti...</td>\n",
              "      <td>negative</td>\n",
              "      <td>i'm going disagree previous comment side malti...</td>\n",
              "    </tr>\n",
              "    <tr>\n",
              "      <th>49999</th>\n",
              "      <td>expects star trek movies high art, fans expect...</td>\n",
              "      <td>negative</td>\n",
              "      <td>expects star trek movie high art, fan expect m...</td>\n",
              "    </tr>\n",
              "  </tbody>\n",
              "</table>\n",
              "<p>50000 rows × 3 columns</p>\n",
              "</div>"
            ],
            "text/plain": [
              "                                                  review sentiment  \\\n",
              "0      reviewers mentioned watching 1 oz episode hook...  positive   \n",
              "1      wonderful little production. filming technique...  positive   \n",
              "2      thought wonderful way spend time hot summer we...  positive   \n",
              "3      basically there's family little boy (jake) thi...  negative   \n",
              "4      petter mattei's \"love time money\" visually stu...  positive   \n",
              "...                                                  ...       ...   \n",
              "49995  thought movie right good job. creative origina...  positive   \n",
              "49996  bad plot, bad dialogue, bad acting, idiotic di...  negative   \n",
              "49997  catholic taught parochial elementary schools n...  negative   \n",
              "49998  i'm going disagree previous comment side malti...  negative   \n",
              "49999  expects star trek movies high art, fans expect...  negative   \n",
              "\n",
              "                                              lemmatized  \n",
              "0      reviewer mentioned watching 1 oz episode hooke...  \n",
              "1      wonderful little production. filming technique...  \n",
              "2      thought wonderful way spend time hot summer we...  \n",
              "3      basically there's family little boy (jake) thi...  \n",
              "4      petter mattei's \"love time money\" visually stu...  \n",
              "...                                                  ...  \n",
              "49995  thought movie right good job. creative origina...  \n",
              "49996  bad plot, bad dialogue, bad acting, idiotic di...  \n",
              "49997  catholic taught parochial elementary school nu...  \n",
              "49998  i'm going disagree previous comment side malti...  \n",
              "49999  expects star trek movie high art, fan expect m...  \n",
              "\n",
              "[50000 rows x 3 columns]"
            ]
          },
          "execution_count": 23,
          "metadata": {},
          "output_type": "execute_result"
        }
      ],
      "source": [
        "r"
      ]
    },
    {
      "cell_type": "code",
      "execution_count": 24,
      "id": "9d1dfd63-55fa-4fd5-be2a-f872aaf11e9f",
      "metadata": {
        "id": "9d1dfd63-55fa-4fd5-be2a-f872aaf11e9f"
      },
      "outputs": [],
      "source": [
        "# pos = 0\n",
        "# for i in range(r.shape[0]):\n",
        "#                if r.iloc[i]['sentiment'] == 'positive':\n",
        "#                     pos = pos+1\n",
        "# neg = r.shape[0]-pos\n",
        "# posper = pos/r.shape[0]*100\n",
        "# negper = neg/r.shape[0]*100\n",
        "# print(posper)\n",
        "# print(negper)"
      ]
    },
    {
      "cell_type": "code",
      "execution_count": 25,
      "id": "568989c3-d7b2-455b-8a02-af85d8e2407a",
      "metadata": {
        "id": "568989c3-d7b2-455b-8a02-af85d8e2407a"
      },
      "outputs": [],
      "source": [
        "#ENCODING"
      ]
    },
    {
      "cell_type": "code",
      "execution_count": 26,
      "id": "4af92833-55d3-4f23-a35d-15817067471d",
      "metadata": {
        "id": "4af92833-55d3-4f23-a35d-15817067471d"
      },
      "outputs": [],
      "source": [
        "reviews = r['lemmatized'].values\n",
        "labels = r['sentiment'].values\n",
        "encoder = LabelEncoder()\n",
        "encoded_labels = encoder.fit_transform(labels)    #converting positive  to 1 and negative to 0"
      ]
    },
    {
      "cell_type": "code",
      "execution_count": 27,
      "id": "2df2a591-5687-4858-b4ad-69545d594edb",
      "metadata": {
        "id": "2df2a591-5687-4858-b4ad-69545d594edb"
      },
      "outputs": [],
      "source": [
        "#SPLITTING TRAINING AND TESTING DATA"
      ]
    },
    {
      "cell_type": "code",
      "execution_count": 28,
      "id": "30846bc7-c4f5-401d-a643-082ec4fcc1e7",
      "metadata": {
        "id": "30846bc7-c4f5-401d-a643-082ec4fcc1e7"
      },
      "outputs": [],
      "source": [
        "train_sentences, test_sentences, train_labels, test_labels = train_test_split(reviews, encoded_labels, stratify= encoded_labels)"
      ]
    },
    {
      "cell_type": "code",
      "execution_count": 29,
      "id": "9124e18e-e3f6-4774-a317-7cd4adb279ce",
      "metadata": {
        "id": "9124e18e-e3f6-4774-a317-7cd4adb279ce"
      },
      "outputs": [],
      "source": [
        "#HYPERPARAMETERS OF MODEL"
      ]
    },
    {
      "cell_type": "code",
      "execution_count": 46,
      "id": "cce7a97d-b2b2-4326-b822-a60b3f562385",
      "metadata": {
        "id": "cce7a97d-b2b2-4326-b822-a60b3f562385"
      },
      "outputs": [],
      "source": [
        "vocab_size = 10000\n",
        "tok = ''\n",
        "embedding_dim = 100\n",
        "max_length = 300\n",
        "padding_type = 'post' \n",
        "trunc_type = 'post'"
      ]
    },
    {
      "cell_type": "code",
      "execution_count": 47,
      "id": "9c152695-44f0-4967-acb5-9d004a81332a",
      "metadata": {
        "id": "9c152695-44f0-4967-acb5-9d004a81332a"
      },
      "outputs": [],
      "source": [
        "#TOKENIZE SENTENCES"
      ]
    },
    {
      "cell_type": "code",
      "execution_count": 48,
      "id": "df7b4dc6-eec6-4a43-80cf-9675e3c4fec5",
      "metadata": {
        "id": "df7b4dc6-eec6-4a43-80cf-9675e3c4fec5"
      },
      "outputs": [],
      "source": [
        "tokenize = Tokenizer(num_words = vocab_size, oov_token =tok)\n",
        "tokenize.fit_on_texts(train_sentences)\n",
        "word_index = tokenize.word_index"
      ]
    },
    {
      "cell_type": "code",
      "execution_count": 49,
      "id": "b76a0dee-dd3d-4e8a-ac07-4e8c9087b1b3",
      "metadata": {
        "id": "b76a0dee-dd3d-4e8a-ac07-4e8c9087b1b3"
      },
      "outputs": [],
      "source": [
        "#CONVERTING TRAIN DATASET TO SEQUENCES AND PAD SEQUENCES"
      ]
    },
    {
      "cell_type": "code",
      "execution_count": 50,
      "id": "e78ec5d9-fba2-49d7-a8e6-f933656e21ec",
      "metadata": {
        "id": "e78ec5d9-fba2-49d7-a8e6-f933656e21ec"
      },
      "outputs": [],
      "source": [
        "train_sequences = tokenize.texts_to_sequences(train_sentences)\n",
        "train_padding = pad_sequences(train_sequences, padding = 'post', maxlen = max_length)"
      ]
    },
    {
      "cell_type": "code",
      "execution_count": 51,
      "id": "18fe0025-bce2-42e6-b2f1-8c557e8a9f79",
      "metadata": {
        "id": "18fe0025-bce2-42e6-b2f1-8c557e8a9f79"
      },
      "outputs": [],
      "source": [
        "#CONVERTING TEST DATASET TO SEQUENCES AND PAD SEQUENCES"
      ]
    },
    {
      "cell_type": "code",
      "execution_count": 52,
      "id": "48c3054a-dc88-4788-877a-50c58f4d547d",
      "metadata": {
        "id": "48c3054a-dc88-4788-877a-50c58f4d547d"
      },
      "outputs": [],
      "source": [
        "test_sequences = tokenize.texts_to_sequences(test_sentences)\n",
        "test_padding = pad_sequences(test_sequences, padding = 'post', maxlen = max_length)"
      ]
    },
    {
      "cell_type": "code",
      "execution_count": 53,
      "id": "e5be83c5-31fa-4ee8-a8e9-49b208aa38bf",
      "metadata": {
        "id": "e5be83c5-31fa-4ee8-a8e9-49b208aa38bf"
      },
      "outputs": [],
      "source": [
        "#BUILDING MODEL"
      ]
    },
    {
      "cell_type": "code",
      "execution_count": 54,
      "id": "f80be062-384f-4688-b168-b33dab72f34c",
      "metadata": {
        "id": "f80be062-384f-4688-b168-b33dab72f34c"
      },
      "outputs": [],
      "source": [
        "#Initialisation"
      ]
    },
    {
      "cell_type": "code",
      "execution_count": 55,
      "id": "4d18635a-bfc5-43fa-981b-aadd3bfc8c0b",
      "metadata": {
        "id": "4d18635a-bfc5-43fa-981b-aadd3bfc8c0b"
      },
      "outputs": [],
      "source": [
        "model = keras.Sequential([\n",
        "    keras.layers.Embedding(vocab_size, embedding_dim, input_length = max_length),\n",
        "    keras.layers.Bidirectional(keras.layers.LSTM(64)),\n",
        "    keras.layers.Dense(24, activation='relu'),\n",
        "    keras.layers.Dense(1, activation='sigmoid')\n",
        "])"
      ]
    },
    {
      "cell_type": "code",
      "execution_count": 56,
      "id": "75c2e928-709b-4448-8cf6-1ffe794a6b67",
      "metadata": {
        "id": "75c2e928-709b-4448-8cf6-1ffe794a6b67"
      },
      "outputs": [],
      "source": [
        "#COMPILING"
      ]
    },
    {
      "cell_type": "code",
      "execution_count": 57,
      "id": "1fde2760-8893-4a4e-9179-8ce7176a875b",
      "metadata": {
        "id": "1fde2760-8893-4a4e-9179-8ce7176a875b"
      },
      "outputs": [],
      "source": [
        "model.compile(loss = 'binary_crossentropy',\n",
        "              optimizer  = 'adam',\n",
        "              metrics = ['accuracy'])"
      ]
    },
    {
      "cell_type": "code",
      "execution_count": 58,
      "id": "4c35ec9d-ddd7-4343-a309-dcbad752de5b",
      "metadata": {
        "id": "4c35ec9d-ddd7-4343-a309-dcbad752de5b"
      },
      "outputs": [
        {
          "name": "stdout",
          "output_type": "stream",
          "text": [
            "Model: \"sequential_1\"\n",
            "_________________________________________________________________\n",
            " Layer (type)                Output Shape              Param #   \n",
            "=================================================================\n",
            " embedding_1 (Embedding)     (None, 300, 100)          1000000   \n",
            "                                                                 \n",
            " bidirectional_1 (Bidirectio  (None, 128)              84480     \n",
            " nal)                                                            \n",
            "                                                                 \n",
            " dense_2 (Dense)             (None, 24)                3096      \n",
            "                                                                 \n",
            " dense_3 (Dense)             (None, 1)                 25        \n",
            "                                                                 \n",
            "=================================================================\n",
            "Total params: 1,087,601\n",
            "Trainable params: 1,087,601\n",
            "Non-trainable params: 0\n",
            "_________________________________________________________________\n"
          ]
        }
      ],
      "source": [
        "model.summary()"
      ]
    },
    {
      "cell_type": "code",
      "execution_count": 59,
      "id": "3d5e075a-4006-4776-ad16-2f2932be91de",
      "metadata": {
        "id": "3d5e075a-4006-4776-ad16-2f2932be91de"
      },
      "outputs": [],
      "source": [
        "#TRAINING"
      ]
    },
    {
      "cell_type": "code",
      "execution_count": 60,
      "id": "48d431a1-6f48-4381-a28f-901d92e518d3",
      "metadata": {
        "id": "48d431a1-6f48-4381-a28f-901d92e518d3"
      },
      "outputs": [
        {
          "name": "stdout",
          "output_type": "stream",
          "text": [
            "Epoch 1/5\n"
          ]
        },
        {
          "name": "stderr",
          "output_type": "stream",
          "text": [
            "2022-11-25 23:08:28.144483: W tensorflow/core/framework/cpu_allocator_impl.cc:82] Allocation of 40500000 exceeds 10% of free system memory.\n"
          ]
        },
        {
          "name": "stdout",
          "output_type": "stream",
          "text": [
            "1055/1055 [==============================] - 306s 285ms/step - loss: 0.3714 - accuracy: 0.8353 - val_loss: 0.3303 - val_accuracy: 0.8635\n",
            "Epoch 2/5\n",
            "1055/1055 [==============================] - 293s 277ms/step - loss: 0.2423 - accuracy: 0.9079 - val_loss: 0.3373 - val_accuracy: 0.8752\n",
            "Epoch 3/5\n",
            "1055/1055 [==============================] - 296s 281ms/step - loss: 0.1826 - accuracy: 0.9332 - val_loss: 0.3408 - val_accuracy: 0.8517\n",
            "Epoch 4/5\n",
            "1055/1055 [==============================] - 285s 270ms/step - loss: 0.1464 - accuracy: 0.9487 - val_loss: 0.3528 - val_accuracy: 0.8763\n",
            "Epoch 5/5\n",
            "1055/1055 [==============================] - 302s 286ms/step - loss: 0.1324 - accuracy: 0.9537 - val_loss: 0.4110 - val_accuracy: 0.8755\n"
          ]
        }
      ],
      "source": [
        "n_epochs= 5\n",
        "history = model.fit(train_padding, train_labels,\n",
        "                   epochs=n_epochs, verbose= 1,\n",
        "                   validation_split = 0.1) "
      ]
    },
    {
      "cell_type": "code",
      "execution_count": 61,
      "id": "ebc126c1",
      "metadata": {
        "id": "ebc126c1"
      },
      "outputs": [],
      "source": []
    },
    {
      "cell_type": "code",
      "execution_count": 62,
      "id": "383bc135-43b5-4577-b3dc-da59f0bd45c3",
      "metadata": {
        "id": "383bc135-43b5-4577-b3dc-da59f0bd45c3"
      },
      "outputs": [
        {
          "name": "stdout",
          "output_type": "stream",
          "text": [
            "391/391 [==============================] - 26s 65ms/step\n"
          ]
        }
      ],
      "source": [
        "prediction = model.predict(test_padding)\n"
      ]
    },
    {
      "cell_type": "code",
      "execution_count": 63,
      "id": "0960b72c-20bb-4463-895d-7c77e3893041",
      "metadata": {
        "id": "0960b72c-20bb-4463-895d-7c77e3893041"
      },
      "outputs": [],
      "source": [
        "#LABELNG BASED ON PROBABILITY"
      ]
    },
    {
      "cell_type": "code",
      "execution_count": 85,
      "id": "9e21a425-d5f0-47b1-a85b-2dc4144054f3",
      "metadata": {
        "id": "9e21a425-d5f0-47b1-a85b-2dc4144054f3"
      },
      "outputs": [
        {
          "ename": "ValueError",
          "evalue": "Found input variables with inconsistent numbers of samples: [12500, 8]",
          "output_type": "error",
          "traceback": [
            "\u001b[0;31m---------------------------------------------------------------------------\u001b[0m",
            "\u001b[0;31mValueError\u001b[0m                                Traceback (most recent call last)",
            "Cell \u001b[0;32mIn [85], line 9\u001b[0m\n\u001b[1;32m      7\u001b[0m     \u001b[39melse\u001b[39;00m:\n\u001b[1;32m      8\u001b[0m         p_labels\u001b[39m.\u001b[39mappend(\u001b[39m0\u001b[39m)\n\u001b[0;32m----> 9\u001b[0m \u001b[39mprint\u001b[39m(\u001b[39m\"\u001b[39m\u001b[39mAccuracy: \u001b[39m\u001b[39m\"\u001b[39m, accuracy_score(test_labels,p_labels))\n",
            "File \u001b[0;32m~/.local/lib/python3.10/site-packages/sklearn/metrics/_classification.py:211\u001b[0m, in \u001b[0;36maccuracy_score\u001b[0;34m(y_true, y_pred, normalize, sample_weight)\u001b[0m\n\u001b[1;32m    145\u001b[0m \u001b[39m\"\"\"Accuracy classification score.\u001b[39;00m\n\u001b[1;32m    146\u001b[0m \n\u001b[1;32m    147\u001b[0m \u001b[39mIn multilabel classification, this function computes subset accuracy:\u001b[39;00m\n\u001b[0;32m   (...)\u001b[0m\n\u001b[1;32m    207\u001b[0m \u001b[39m0.5\u001b[39;00m\n\u001b[1;32m    208\u001b[0m \u001b[39m\"\"\"\u001b[39;00m\n\u001b[1;32m    210\u001b[0m \u001b[39m# Compute accuracy for each possible representation\u001b[39;00m\n\u001b[0;32m--> 211\u001b[0m y_type, y_true, y_pred \u001b[39m=\u001b[39m _check_targets(y_true, y_pred)\n\u001b[1;32m    212\u001b[0m check_consistent_length(y_true, y_pred, sample_weight)\n\u001b[1;32m    213\u001b[0m \u001b[39mif\u001b[39;00m y_type\u001b[39m.\u001b[39mstartswith(\u001b[39m\"\u001b[39m\u001b[39mmultilabel\u001b[39m\u001b[39m\"\u001b[39m):\n",
            "File \u001b[0;32m~/.local/lib/python3.10/site-packages/sklearn/metrics/_classification.py:84\u001b[0m, in \u001b[0;36m_check_targets\u001b[0;34m(y_true, y_pred)\u001b[0m\n\u001b[1;32m     57\u001b[0m \u001b[39mdef\u001b[39;00m \u001b[39m_check_targets\u001b[39m(y_true, y_pred):\n\u001b[1;32m     58\u001b[0m     \u001b[39m\"\"\"Check that y_true and y_pred belong to the same classification task.\u001b[39;00m\n\u001b[1;32m     59\u001b[0m \n\u001b[1;32m     60\u001b[0m \u001b[39m    This converts multiclass or binary types to a common shape, and raises a\u001b[39;00m\n\u001b[0;32m   (...)\u001b[0m\n\u001b[1;32m     82\u001b[0m \u001b[39m    y_pred : array or indicator matrix\u001b[39;00m\n\u001b[1;32m     83\u001b[0m \u001b[39m    \"\"\"\u001b[39;00m\n\u001b[0;32m---> 84\u001b[0m     check_consistent_length(y_true, y_pred)\n\u001b[1;32m     85\u001b[0m     type_true \u001b[39m=\u001b[39m type_of_target(y_true, input_name\u001b[39m=\u001b[39m\u001b[39m\"\u001b[39m\u001b[39my_true\u001b[39m\u001b[39m\"\u001b[39m)\n\u001b[1;32m     86\u001b[0m     type_pred \u001b[39m=\u001b[39m type_of_target(y_pred, input_name\u001b[39m=\u001b[39m\u001b[39m\"\u001b[39m\u001b[39my_pred\u001b[39m\u001b[39m\"\u001b[39m)\n",
            "File \u001b[0;32m~/.local/lib/python3.10/site-packages/sklearn/utils/validation.py:387\u001b[0m, in \u001b[0;36mcheck_consistent_length\u001b[0;34m(*arrays)\u001b[0m\n\u001b[1;32m    385\u001b[0m uniques \u001b[39m=\u001b[39m np\u001b[39m.\u001b[39munique(lengths)\n\u001b[1;32m    386\u001b[0m \u001b[39mif\u001b[39;00m \u001b[39mlen\u001b[39m(uniques) \u001b[39m>\u001b[39m \u001b[39m1\u001b[39m:\n\u001b[0;32m--> 387\u001b[0m     \u001b[39mraise\u001b[39;00m \u001b[39mValueError\u001b[39;00m(\n\u001b[1;32m    388\u001b[0m         \u001b[39m\"\u001b[39m\u001b[39mFound input variables with inconsistent numbers of samples: \u001b[39m\u001b[39m%r\u001b[39;00m\u001b[39m\"\u001b[39m\n\u001b[1;32m    389\u001b[0m         \u001b[39m%\u001b[39m [\u001b[39mint\u001b[39m(l) \u001b[39mfor\u001b[39;00m l \u001b[39min\u001b[39;00m lengths]\n\u001b[1;32m    390\u001b[0m     )\n",
            "\u001b[0;31mValueError\u001b[0m: Found input variables with inconsistent numbers of samples: [12500, 8]"
          ]
        }
      ],
      "source": [
        "p_labels = []\n",
        "for i in prediction:\n",
        "    if i > 0.5:\n",
        "        p_labels.append(1)\n",
        "    elif i==0.5:\n",
        "        p_labels.append(2)\n",
        "    else:\n",
        "        p_labels.append(0)\n",
        "print(\"Accuracy: \", accuracy_score(test_labels,p_labels))"
      ]
    },
    {
      "cell_type": "code",
      "execution_count": null,
      "id": "d7ce324a",
      "metadata": {},
      "outputs": [],
      "source": []
    },
    {
      "cell_type": "code",
      "execution_count": 88,
      "id": "a81ad085-5159-4d2b-8af1-3065c689da5b",
      "metadata": {
        "id": "a81ad085-5159-4d2b-8af1-3065c689da5b"
      },
      "outputs": [
        {
          "name": "stdout",
          "output_type": "stream",
          "text": [
            "1/1 [==============================] - 0s 99ms/step\n",
            "Sentiment0 is:  Positive\n",
            "Sentiment1 is:  Negative\n",
            "Sentiment2 is:  Positive\n",
            "Sentiment3 is:  Positive\n",
            "Sentiment4 is:  Negative\n",
            "Sentiment5 is:  Positive\n",
            "Sentiment6 is:  Positive\n",
            "Sentiment7 is:  Negative\n"
          ]
        }
      ],
      "source": [
        "sentence = [\"The movie was best\",\n",
        "           \"The plot of movie was terrible\",\n",
        "           \"The actors did a very good job\",\n",
        "           'beautiful movie. loved it',\n",
        "           \"it was boring\",\n",
        "           \"VFX were a spectacle to see\",\n",
        "           \"i loved the movie\",\n",
        "           \" It stinks\"]\n",
        "sequences = tokenize.texts_to_sequences(sentence)\n",
        "padding = pad_sequences(sequences, padding = 'post', maxlen = max_length)\n",
        "prediction = model.predict(padding)\n",
        "p_labels = []\n",
        "for i in prediction:\n",
        "    if i > 0.5:\n",
        "        p_labels.append(1)\n",
        "    elif i==0.5:\n",
        "        p_labels.append(2)\n",
        "    else:\n",
        "        p_labels.append(0)\n",
        "for i in range (len(sentence)):\n",
        "    if p_labels[i]==1:\n",
        "        s= 'Positive'\n",
        "    elif p_labels[i]==2:\n",
        "        s='Neutral'\n",
        "    else:\n",
        "        s='Negative'\n",
        "    print(\"Sentiment\"+str(i)+\" is: \",s)\n"
      ]
    },
    {
      "cell_type": "code",
      "execution_count": 87,
      "id": "787669cf",
      "metadata": {},
      "outputs": [],
      "source": [
        "model.save('sentimental.h5')"
      ]
    },
    {
      "cell_type": "code",
      "execution_count": null,
      "id": "93c8c0db",
      "metadata": {},
      "outputs": [],
      "source": []
    }
  ],
  "metadata": {
    "colab": {
      "provenance": []
    },
    "kernelspec": {
      "display_name": "Python 3.10.6 64-bit",
      "language": "python",
      "name": "python3"
    },
    "language_info": {
      "codemirror_mode": {
        "name": "ipython",
        "version": 3
      },
      "file_extension": ".py",
      "mimetype": "text/x-python",
      "name": "python",
      "nbconvert_exporter": "python",
      "pygments_lexer": "ipython3",
      "version": "3.10.6"
    },
    "vscode": {
      "interpreter": {
        "hash": "916dbcbb3f70747c44a77c7bcd40155683ae19c65e1c03b4aa3499c5328201f1"
      }
    }
  },
  "nbformat": 4,
  "nbformat_minor": 5
}
